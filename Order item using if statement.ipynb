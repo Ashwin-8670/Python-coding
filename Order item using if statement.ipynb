{
 "cells": [
  {
   "cell_type": "code",
   "execution_count": null,
   "metadata": {},
   "outputs": [],
   "source": [
    "\n",
    "name= input(\"Enter you name: \")\n",
    "food = input(\"What sandwhich do you want? \")\n",
    "tcheese = input(\"Type of cheese \")\n",
    "pick = input(\"Do you want pickle? \")\n",
    "price=20\n",
    "\n",
    "if tcheese == \"Mozarella\" :\n",
    "    if pick == \"no\":\n",
    "        print(\"That's\",price,\"Dollars\")"
   ]
  },
  {
   "cell_type": "code",
   "execution_count": null,
   "metadata": {},
   "outputs": [],
   "source": [
    "age=int(input(\"Enter Age: \"))\n",
    "name=input(\"Enter Name: \")\n",
    "food=input(\"Enter Food: \")\n",
    "cheese=input(\"Do you want cheese?: \")\n",
    "# price= \n",
    "\n",
    "\n",
    "if age>=42 and cheese=='yes':\n",
    "    print('Old with cheese')\n",
    "elif age>=24 and age<=41:\n",
    "        print('Not Old')\n",
    "elif age<=22:\n",
    "     print('Young')\n",
    "else:\n",
    "    print('OK')"
   ]
  }
 ],
 "metadata": {
  "kernelspec": {
   "display_name": "Python 3",
   "language": "python",
   "name": "python3"
  },
  "language_info": {
   "codemirror_mode": {
    "name": "ipython",
    "version": 3
   },
   "file_extension": ".py",
   "mimetype": "text/x-python",
   "name": "python",
   "nbconvert_exporter": "python",
   "pygments_lexer": "ipython3",
   "version": "3.8.3"
  }
 },
 "nbformat": 4,
 "nbformat_minor": 4
}
